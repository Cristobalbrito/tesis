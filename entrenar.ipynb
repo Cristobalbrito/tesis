{
 "cells": [
  {
   "cell_type": "code",
   "execution_count": 12,
   "metadata": {},
   "outputs": [],
   "source": [
    "import sys\n",
    "import os\n",
    "from tensorflow.python.keras.preprocessing.image import ImageDataGenerator\n",
    "from tensorflow.python.keras import optimizers\n",
    "from tensorflow.python.keras.models import Sequential\n",
    "from tensorflow.python.keras.layers import Dropout, Flatten, Dense, Activation\n",
    "from tensorflow.python.keras.layers import Convolution2D, MaxPooling2D \n",
    "from tensorflow.python.keras import backend as k"
   ]
  },
  {
   "cell_type": "code",
   "execution_count": 13,
   "metadata": {},
   "outputs": [],
   "source": [
    "k.clear_session()"
   ]
  },
  {
   "cell_type": "code",
   "execution_count": 14,
   "metadata": {},
   "outputs": [],
   "source": [
    "data_entrenamiento='./data/entrenamiento'\n",
    "data_validacion='./data/validacion'"
   ]
  },
  {
   "cell_type": "code",
   "execution_count": 21,
   "metadata": {},
   "outputs": [],
   "source": [
    "##parametros\n",
    "epocas=30 #es la cantidad de ciclos la cual se entrenara la red\n",
    "altura, longitud= 100, 100 #los pixeles en los cuales se transforamra la imagen\n",
    "batch_size=32#numero de imgenenes por epoca\n",
    "pasos=1000 #lacantidad de veces que se va ha mprocesar la informacion por cada epoca \n",
    "pasos_validacion=200# las veces que se validara por cada epoca\n",
    "filtrosConv1=32\n",
    "filtrosConv2=64\n",
    "tamano_filtro1=(3,3)\n",
    "tamano_filtro2=(2,2)\n",
    "tamano_pool=(2,2)\n",
    "clases=3 #tipo de varieradad de respuesta\n",
    "lr=0.0004#ajuste de la red"
   ]
  },
  {
   "cell_type": "code",
   "execution_count": 22,
   "metadata": {},
   "outputs": [],
   "source": [
    "entrenamiento_datagen=ImageDataGenerator(\n",
    "    rescale=1./255,# el rescalado de imagen \n",
    "    shear_range=0.3,#las imagenes se inclinaran\n",
    "    zoom_range=0.3,#habra zoom en ciertas imagenes\n",
    "    horizontal_flip=True#las imagenes se voltearan horizontalmente\n",
    ")"
   ]
  },
  {
   "cell_type": "code",
   "execution_count": 23,
   "metadata": {},
   "outputs": [],
   "source": [
    "validacion_datagen=ImageDataGenerator(\n",
    "    rescale=1./255,# el rescalado de imagen \n",
    ")"
   ]
  },
  {
   "cell_type": "code",
   "execution_count": 24,
   "metadata": {},
   "outputs": [
    {
     "name": "stdout",
     "output_type": "stream",
     "text": [
      "Found 24285 images belonging to 3 classes.\n"
     ]
    }
   ],
   "source": [
    "imagen_entrenamiento=entrenamiento_datagen.flow_from_directory(\n",
    "    data_entrenamiento,\n",
    "    target_size=(altura, longitud),\n",
    "    batch_size=batch_size,\n",
    "    class_mode='categorical'\n",
    ")"
   ]
  },
  {
   "cell_type": "code",
   "execution_count": 25,
   "metadata": {},
   "outputs": [
    {
     "name": "stdout",
     "output_type": "stream",
     "text": [
      "Found 887 images belonging to 3 classes.\n"
     ]
    }
   ],
   "source": [
    "imagen_validacion=validacion_datagen.flow_from_directory(\n",
    "    data_validacion,\n",
    "    target_size=(altura, longitud),\n",
    "    batch_size=batch_size,\n",
    "    class_mode='categorical'\n",
    ")"
   ]
  },
  {
   "cell_type": "code",
   "execution_count": 26,
   "metadata": {},
   "outputs": [
    {
     "name": "stdout",
     "output_type": "stream",
     "text": [
      "Epoch 1/30\n",
      "28/28 [==============================] - 16s 571ms/step - loss: 2.0914 - acc: 0.3585\n",
      "759/759 [==============================] - 770s 1s/step - loss: 0.6837 - acc: 0.6381 - val_loss: 2.0914 - val_acc: 0.3585\n",
      "Epoch 2/30\n",
      "28/28 [==============================] - 5s 195ms/step - loss: 1.3291 - acc: 0.4791\n",
      "759/759 [==============================] - 719s 947ms/step - loss: 0.6034 - acc: 0.7001 - val_loss: 1.3291 - val_acc: 0.4791\n",
      "Epoch 3/30\n",
      "28/28 [==============================] - 5s 183ms/step - loss: 1.2849 - acc: 0.5062\n",
      "759/759 [==============================] - 719s 947ms/step - loss: 0.5676 - acc: 0.7206 - val_loss: 1.2849 - val_acc: 0.5062\n",
      "Epoch 4/30\n",
      "28/28 [==============================] - 6s 202ms/step - loss: 1.4599 - acc: 0.4724\n",
      "759/759 [==============================] - 720s 949ms/step - loss: 0.5442 - acc: 0.7371 - val_loss: 1.4599 - val_acc: 0.4724\n",
      "Epoch 5/30\n",
      "28/28 [==============================] - 9s 325ms/step - loss: 1.2781 - acc: 0.5344\n",
      "759/759 [==============================] - 734s 967ms/step - loss: 0.5259 - acc: 0.7498 - val_loss: 1.2781 - val_acc: 0.5344\n",
      "Epoch 6/30\n",
      "28/28 [==============================] - 6s 200ms/step - loss: 1.6163 - acc: 0.4679\n",
      "759/759 [==============================] - 730s 961ms/step - loss: 0.5060 - acc: 0.7633 - val_loss: 1.6163 - val_acc: 0.4679\n",
      "Epoch 7/30\n",
      "28/28 [==============================] - 6s 198ms/step - loss: 1.4254 - acc: 0.4791\n",
      "759/759 [==============================] - 720s 948ms/step - loss: 0.4894 - acc: 0.7740 - val_loss: 1.4254 - val_acc: 0.4791\n",
      "Epoch 8/30\n",
      "28/28 [==============================] - 5s 190ms/step - loss: 1.5663 - acc: 0.4622\n",
      "759/759 [==============================] - 720s 949ms/step - loss: 0.4819 - acc: 0.7821 - val_loss: 1.5663 - val_acc: 0.4622\n",
      "Epoch 9/30\n",
      "28/28 [==============================] - 6s 202ms/step - loss: 1.1765 - acc: 0.5378\n",
      "759/759 [==============================] - 720s 948ms/step - loss: 0.4728 - acc: 0.7828 - val_loss: 1.1765 - val_acc: 0.5378\n",
      "Epoch 10/30\n",
      "28/28 [==============================] - 6s 200ms/step - loss: 1.1554 - acc: 0.4915\n",
      "759/759 [==============================] - 720s 949ms/step - loss: 0.4597 - acc: 0.7927 - val_loss: 1.1554 - val_acc: 0.4915\n",
      "Epoch 11/30\n",
      "28/28 [==============================] - 5s 184ms/step - loss: 1.2105 - acc: 0.5344\n",
      "759/759 [==============================] - 719s 947ms/step - loss: 0.4523 - acc: 0.7933 - val_loss: 1.2105 - val_acc: 0.5344\n",
      "Epoch 12/30\n",
      "28/28 [==============================] - 5s 186ms/step - loss: 1.1027 - acc: 0.5536\n",
      "759/759 [==============================] - 721s 950ms/step - loss: 0.4435 - acc: 0.7969 - val_loss: 1.1027 - val_acc: 0.5536\n",
      "Epoch 13/30\n",
      "28/28 [==============================] - 6s 198ms/step - loss: 1.5030 - acc: 0.4882\n",
      "759/759 [==============================] - 720s 948ms/step - loss: 0.4394 - acc: 0.8036 - val_loss: 1.5030 - val_acc: 0.4882\n",
      "Epoch 14/30\n",
      "28/28 [==============================] - 6s 197ms/step - loss: 1.1640 - acc: 0.5569\n",
      "759/759 [==============================] - 720s 948ms/step - loss: 0.4275 - acc: 0.8077 - val_loss: 1.1640 - val_acc: 0.5569\n",
      "Epoch 15/30\n",
      "28/28 [==============================] - 5s 185ms/step - loss: 1.4491 - acc: 0.5073\n",
      "759/759 [==============================] - 719s 947ms/step - loss: 0.4232 - acc: 0.8120 - val_loss: 1.4491 - val_acc: 0.5073\n",
      "Epoch 16/30\n",
      "28/28 [==============================] - 6s 198ms/step - loss: 1.1581 - acc: 0.5648\n",
      "759/759 [==============================] - 719s 948ms/step - loss: 0.4200 - acc: 0.8140 - val_loss: 1.1581 - val_acc: 0.5648\n",
      "Epoch 17/30\n",
      "28/28 [==============================] - 6s 201ms/step - loss: 1.1383 - acc: 0.5626\n",
      "759/759 [==============================] - 719s 947ms/step - loss: 0.4130 - acc: 0.8162 - val_loss: 1.1383 - val_acc: 0.5626\n",
      "Epoch 18/30\n",
      "28/28 [==============================] - 5s 193ms/step - loss: 1.3528 - acc: 0.5682\n",
      "759/759 [==============================] - 719s 947ms/step - loss: 0.4093 - acc: 0.8217 - val_loss: 1.3528 - val_acc: 0.5682\n",
      "Epoch 19/30\n",
      "28/28 [==============================] - 6s 197ms/step - loss: 1.5524 - acc: 0.5085\n",
      "759/759 [==============================] - 719s 947ms/step - loss: 0.4014 - acc: 0.8223 - val_loss: 1.5524 - val_acc: 0.5085\n",
      "Epoch 20/30\n",
      "28/28 [==============================] - 6s 197ms/step - loss: 1.4237 - acc: 0.4927\n",
      "759/759 [==============================] - 726s 957ms/step - loss: 0.3953 - acc: 0.8250 - val_loss: 1.4237 - val_acc: 0.4927\n",
      "Epoch 21/30\n",
      "28/28 [==============================] - 5s 196ms/step - loss: 1.0385 - acc: 0.5705\n",
      "759/759 [==============================] - 727s 958ms/step - loss: 0.3924 - acc: 0.8283 - val_loss: 1.0385 - val_acc: 0.5705\n",
      "Epoch 22/30\n",
      "28/28 [==============================] - 5s 184ms/step - loss: 1.5355 - acc: 0.5254\n",
      "759/759 [==============================] - 727s 958ms/step - loss: 0.3863 - acc: 0.8298 - val_loss: 1.5355 - val_acc: 0.5254\n",
      "Epoch 23/30\n",
      "28/28 [==============================] - 6s 205ms/step - loss: 1.1364 - acc: 0.5558\n",
      "759/759 [==============================] - 727s 958ms/step - loss: 0.3822 - acc: 0.8339 - val_loss: 1.1364 - val_acc: 0.5558\n",
      "Epoch 24/30\n",
      "28/28 [==============================] - 5s 196ms/step - loss: 1.3437 - acc: 0.5333\n",
      "759/759 [==============================] - 726s 957ms/step - loss: 0.3734 - acc: 0.8389 - val_loss: 1.3437 - val_acc: 0.5333\n",
      "Epoch 25/30\n",
      "28/28 [==============================] - 6s 200ms/step - loss: 1.5787 - acc: 0.5197\n",
      "759/759 [==============================] - 727s 958ms/step - loss: 0.3687 - acc: 0.8375 - val_loss: 1.5787 - val_acc: 0.5197\n",
      "Epoch 26/30\n",
      "28/28 [==============================] - 6s 203ms/step - loss: 1.4976 - acc: 0.5186 1s - loss: 1.5190 - acc: 0\n",
      "759/759 [==============================] - 727s 957ms/step - loss: 0.3707 - acc: 0.8384 - val_loss: 1.4976 - val_acc: 0.5186\n",
      "Epoch 27/30\n",
      "28/28 [==============================] - 6s 197ms/step - loss: 1.4656 - acc: 0.5321\n",
      "759/759 [==============================] - 727s 957ms/step - loss: 0.3640 - acc: 0.8433 - val_loss: 1.4656 - val_acc: 0.5321\n",
      "Epoch 28/30\n",
      "28/28 [==============================] - 5s 184ms/step - loss: 1.5090 - acc: 0.5490\n",
      "759/759 [==============================] - 728s 959ms/step - loss: 0.3645 - acc: 0.8453 - val_loss: 1.5090 - val_acc: 0.5490\n",
      "Epoch 29/30\n",
      "28/28 [==============================] - 5s 184ms/step - loss: 1.2320 - acc: 0.5637\n",
      "759/759 [==============================] - 727s 958ms/step - loss: 0.3573 - acc: 0.8473 - val_loss: 1.2320 - val_acc: 0.5637\n",
      "Epoch 30/30\n",
      "28/28 [==============================] - 6s 204ms/step - loss: 1.3304 - acc: 0.5490\n",
      "759/759 [==============================] - 727s 958ms/step - loss: 0.3591 - acc: 0.8425 - val_loss: 1.3304 - val_acc: 0.5490\n",
      "{'gatos': 0, 'gorrilas': 1, 'perros': 2}\n"
     ]
    }
   ],
   "source": [
    "#crear la red cnn\n",
    "cnn=Sequential()#pongo que la red sera profunda\n",
    "cnn.add(Convolution2D(filtrosConv1, tamano_filtro1, padding='same', input_shape=(altura,longitud,3), activation='relu'))#hago una capa de convolucion\n",
    "cnn.add(MaxPooling2D(pool_size=tamano_pool))#una capa de pool\n",
    "cnn.add(Convolution2D(filtrosConv2, tamano_filtro2, padding='same', activation='relu'))\n",
    "cnn.add(Flatten())#para aplanar la imagen\n",
    "cnn.add(Dense(256,activation='relu'))#creracion y activacion de neuronas\n",
    "cnn.add(Dropout(0.6))#apagado de neuronas\n",
    "cnn.add(Dense(clases,activation='softmax'))#resultado\n",
    "cnn.compile(loss='categorical_crossentropy', optimizer=optimizers.Adam(lr=lr), metrics=['accuracy'])\n",
    "cnn.fit(imagen_entrenamiento, steps_per_epoch=pasos, epochs=epocas, validation_data=imagen_validacion, validation_step=pasos_validacion)\n",
    "print(imagen_entrenamiento.class_indices)\n",
    "dir='./modelo/'\n",
    "if not os.path.exists(dir):\n",
    "    os.mkdir(dir)\n",
    "cnn.save('./modelo/modelo.h5')\n",
    "cnn.save_weights('./modelo/pesos.h5')"
   ]
  },
  {
   "cell_type": "code",
   "execution_count": null,
   "metadata": {},
   "outputs": [],
   "source": []
  },
  {
   "cell_type": "code",
   "execution_count": null,
   "metadata": {},
   "outputs": [],
   "source": []
  }
 ],
 "metadata": {
  "kernelspec": {
   "display_name": "Python 3",
   "language": "python",
   "name": "python3"
  },
  "language_info": {
   "codemirror_mode": {
    "name": "ipython",
    "version": 3
   },
   "file_extension": ".py",
   "mimetype": "text/x-python",
   "name": "python",
   "nbconvert_exporter": "python",
   "pygments_lexer": "ipython3",
   "version": "3.7.1"
  }
 },
 "nbformat": 4,
 "nbformat_minor": 2
}
